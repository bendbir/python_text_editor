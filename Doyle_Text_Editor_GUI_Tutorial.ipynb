{
 "cells": [
  {
   "cell_type": "markdown",
   "metadata": {},
   "source": [
    "# Text Editor GUI Tutorial\n",
    "### By Benjamin Doyle\n",
    "### CSCI-E7, Spring 2017"
   ]
  },
  {
   "cell_type": "markdown",
   "metadata": {},
   "source": [
    "## tkinter\n",
    "standard Python GUI module"
   ]
  },
  {
   "cell_type": "code",
   "execution_count": 101,
   "metadata": {
    "collapsed": false
   },
   "outputs": [],
   "source": [
    "import tkinter\n",
    "from tkinter import *\n",
    "import tkinter.filedialog\n",
    "import tkinter.scrolledtext as tkst\n",
    "import tkinter.messagebox\n",
    "\n",
    "# \"import *\" imports all module classes directly into namespace\n",
    "# So we do not need to specify tkinter.x or tkinter.y\n",
    "\n",
    "\n",
    "# Make our text edit window\n",
    "root = Tk(className=\" My First Text Editor\")\n",
    "\n",
    "text = Text(root)\n",
    "text.grid()\n",
    "# .grid = geometry manager\n",
    "# Organize widgets in table like structure\n",
    "# widget = things in tkinter\n",
    "\n",
    "\n",
    "# Next we'll make a save button\n",
    "# We'll have to define function, \"saveas\"\n",
    "def saveas():\n",
    "    global text\n",
    "    \n",
    "    t = text.get(\"1.0\", \"end-1c\")\n",
    "    \n",
    "    # Define save location\n",
    "    # NEEDS TO BE IN SAME CELL AS IMPORT.\n",
    "    # Otherwise will not work\n",
    "    savelocation = filedialog.asksaveasfilename()\n",
    "    \n",
    "    # Make sure program doesn't crash\n",
    "    # If filedialog is canceled!\n",
    "    if savelocation != None:\n",
    "        file = open(savelocation, \"w+\")\n",
    "        file.write(t)\n",
    "        \n",
    "    # Make sure you close open file!\n",
    "        file.close()\n",
    "\n",
    "\n",
    "        \n",
    "\n",
    "# Define open command\n",
    "def open_command():\n",
    "    file = filedialog.askopenfile(parent=root,mode='rb',title='Select a file')\n",
    "    \n",
    "    # Make sure program doesn't crash\n",
    "    # If filedialog is canceled\n",
    "    if file != None:\n",
    "        contents = file.read()\n",
    "        text.insert('1.0',contents)\n",
    "        file.close()\n",
    "\n",
    "# Define exit_command\n",
    "def exit_command():\n",
    "    if messagebox.askokcancel(\"Quit\", \"Are you sure you want to quit?\"):\n",
    "        # root.destroy() will close window\n",
    "        root.destroy()\n",
    "\n",
    "        \n",
    "# Generate Save Button\n",
    "save_button = Button(root, text = \"Save File\", command = saveas)\n",
    "save_button.grid()\n",
    "\n",
    "# Generate Open Button\n",
    "open_button = Button(root, text = \"Open File\", command = open_command)\n",
    "open_button.grid()\n",
    "\n",
    "# Generate Exit Button\n",
    "exit_button = Button(root, text = \"Quit\", command = exit_command)\n",
    "exit_button.grid()\n",
    "\n",
    "\n",
    "# ALSO\n",
    "# Can Generate Exit Button on file bar\n",
    "menu = Menu(root)\n",
    "root.config(menu=menu)\n",
    "filemenu = Menu(menu)\n",
    "menu.add_cascade(label=\"File\", menu = filemenu)\n",
    "filemenu.add_command(label=\"Quit\", command = exit_command)\n",
    "\n",
    "# Make sure this is at the bottom of your code\n",
    "# This executes the program\n",
    "root.mainloop()"
   ]
  },
  {
   "cell_type": "markdown",
   "metadata": {},
   "source": [
    "http://www.instructables.com/id/Create-a-Simple-Python-Text-Editor/  \n",
    "Majority of code was based upon this instructable  \n",
    "http://knowpapa.com/text-editor/  \n",
    "Also based on text-editor by knowpapa.com  \n",
    "http://stackoverflow.com/questions/16497912/how-to-save-text-into-a-txt-file-using-python-2-7-using-tk  \n",
    "Used to better understand saving button portion of code  \n",
    "http://stackoverflow.com/questions/15974787/difference-between-import-tkinter-as-tk-and-from-tkinter-import\n",
    "\n",
    "http://knowpapa.com/text-editor/"
   ]
  },
  {
   "cell_type": "code",
   "execution_count": null,
   "metadata": {
    "collapsed": true
   },
   "outputs": [],
   "source": []
  }
 ],
 "metadata": {
  "anaconda-cloud": {},
  "kernelspec": {
   "display_name": "Python [default]",
   "language": "python",
   "name": "python3"
  },
  "language_info": {
   "codemirror_mode": {
    "name": "ipython",
    "version": 3
   },
   "file_extension": ".py",
   "mimetype": "text/x-python",
   "name": "python",
   "nbconvert_exporter": "python",
   "pygments_lexer": "ipython3",
   "version": "3.5.2"
  }
 },
 "nbformat": 4,
 "nbformat_minor": 1
}
